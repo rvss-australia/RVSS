{
  "cells": [
    {
      "cell_type": "markdown",
      "metadata": {
        "id": "98tzSzdEfn-5"
      },
      "source": [
        "<table>\n",
        "  <tr>\n",
        "    <td><img src=\"https://github.com/rvss-australia/RVSS/blob/main/Pics/RVSS-logo-col.med.jpg?raw=1\" width=\"400\"></td>\n",
        "    <td><div align=\"left\"><font size=\"30\">Finding fiducial markers</font></div></td>\n",
        "  </tr>\n",
        "</table>\n",
        "\n",
        "(c) Peter Corke 2024\n",
        "\n",
        "Robotics, Vision & Control: Python, see section 13.6.1"
      ]
    },
    {
      "cell_type": "markdown",
      "metadata": {
        "id": "o08yYqLXfsd_"
      },
      "source": [
        "## Configuring the Jupyter environment\n",
        "We need to import some packages to help us with linear algebra (`numpy`), graphics (`matplotlib`), and machine vision (`machinevisiontoolbox`).\n",
        "If you're running locally you need to have these packages installed.  If you're running on CoLab we have to first install machinevisiontoolbox which is not preinstalled, this will be a bit slow."
      ]
    },
    {
      "cell_type": "code",
      "execution_count": 11,
      "metadata": {
        "id": "WkfRfV6bfspV"
      },
      "outputs": [],
      "source": [
        "try:\n",
        "    import google.colab\n",
        "    print('Running on CoLab')\n",
        "    !pip install machinevision-toolbox-python\n",
        "    COLAB = True\n",
        "except:\n",
        "    COLAB = False\n",
        "\n",
        "%matplotlib ipympl\n",
        "\n",
        "import numpy as np\n",
        "import math\n",
        "from spatialmath import SE3, SO3\n",
        "from spatialmath.base import e2h, h2e\n",
        "from machinevisiontoolbox import Image, CentralCamera\n",
        "from spatialmath.base import plot_point\n",
        "import matplotlib.pyplot as plt\n"
      ]
    },
    {
      "cell_type": "markdown",
      "metadata": {
        "id": "3hSqz-Rifn-7"
      },
      "source": [
        "***\n",
        "\n",
        "Fiducial markers are an effective way to mark points in the environment.  The markers carry a numerical identity and their position, or even pose, with respect to the camera can be determined.\n",
        "\n",
        "This example uses OpenCV function which are available via the Machine Vision Toolbox.  Two common types of fiducual markers are used in robotics and vision: ApriTags (not covered here) and arUco markers.\n",
        "\n",
        "## ArUco markers\n",
        "\n",
        "ArUco markers were developed as a simple way to mark things for augmented reality (AR) applications, hence the AR in their name.  They are just high-contrast grids that encode a number as well as position and orientation.\n",
        "\n",
        "We will load a synthetic image of some arUco markers in the lab."
      ]
    },
    {
      "cell_type": "code",
      "execution_count": null,
      "metadata": {
        "id": "yYJ8OOUmfn-7",
        "scrolled": false
      },
      "outputs": [],
      "source": [
        "scene = Image.Read(\"lab-scene.png\", rgb=False)\n",
        "scene.disp();\n",
        "print(scene)"
      ]
    },
    {
      "cell_type": "markdown",
      "metadata": {
        "id": "CBydI3Iifn-8"
      },
      "source": [
        "We are attempting to determine the 3D pose of the arUco markers based on 2D image information, so we need to know some parameters of the imaging geometry.  We create a model of a central projection camera, using as many of the parameters as we know:\n",
        "-  the focal length, in this case 4.25mm\n",
        "-  the image size\n",
        "- the principal point, where the optical axis passes through the image plane\n",
        "- the pixel size, in this case 1.4μm\n",
        "\n",
        "From the camera model we can derive the intrinsic parameter matrix"
      ]
    },
    {
      "cell_type": "code",
      "execution_count": null,
      "metadata": {
        "id": "BeqUEfOpfn-8"
      },
      "outputs": [],
      "source": [
        "camera = CentralCamera(f=4.25e-3, imagesize=(4032, 3024), pp=(2016, 1512), rho=1.4e-6)\n",
        "camera.K"
      ]
    },
    {
      "cell_type": "markdown",
      "metadata": {
        "id": "WCuDwrf3fn-9"
      },
      "source": [
        "There are many different arUco marker families, here we are using `4x4_1000` which is a $4 \\times 4$ grid of squares that can encode numbers from 0 to 9999.  We pass in the marker family, the camera intrinsic parameter matrix, and the side length of the marker.  This last parameter is important, because with perspective projection we cannot tell the difference between some large and distance or small and close.  Knowing the size help us estimate distance."
      ]
    },
    {
      "cell_type": "code",
      "execution_count": 14,
      "metadata": {
        "id": "DEqJDV3qfn-9"
      },
      "outputs": [],
      "source": [
        "markers = scene.fiducial(\"4x4_1000\", K=camera.K, side=67e-3);"
      ]
    },
    {
      "cell_type": "markdown",
      "metadata": {
        "id": "vCcamFjqfn-9"
      },
      "source": [
        "The return is a list of Marker objects, each has the id of the marker, and the coordinates of four corners which is enough to estimate the orientation of the planar marker in 3D , which is shown above.  We pick element 2 of the marker list  "
      ]
    },
    {
      "cell_type": "code",
      "execution_count": null,
      "metadata": {
        "id": "CCCAF8q-fn-9"
      },
      "outputs": [],
      "source": [
        "marker = markers[2]\n",
        "marker.id"
      ]
    },
    {
      "cell_type": "markdown",
      "metadata": {
        "id": "Pk3y8-IBfn--"
      },
      "source": [
        "which is the marker with `id` of 5, the marker being held by the teddy bear.  The corners of this particular fiducial are"
      ]
    },
    {
      "cell_type": "code",
      "execution_count": null,
      "metadata": {
        "id": "1zFXNPHOfn--"
      },
      "outputs": [],
      "source": [
        "marker.corners"
      ]
    },
    {
      "cell_type": "markdown",
      "metadata": {
        "id": "RSa1p9m-fn-_"
      },
      "source": [
        "and we can display them on the original image (zoomed in)"
      ]
    },
    {
      "cell_type": "code",
      "execution_count": null,
      "metadata": {
        "id": "ZysRfRsnfn-_"
      },
      "outputs": [],
      "source": [
        "scene.disp(block=None)\n",
        "plot_point(marker.corners, 'bx')\n",
        "plt.xlim(800, 1200)\n",
        "plt.ylim(1200, 800)"
      ]
    },
    {
      "cell_type": "markdown",
      "metadata": {
        "id": "8Sgq_Gd9fn-_"
      },
      "source": [
        "The pose of the fiducial, with respect to the camera, as an SE(3) matrix is"
      ]
    },
    {
      "cell_type": "code",
      "execution_count": null,
      "metadata": {
        "id": "3f00OESOfn_A"
      },
      "outputs": [],
      "source": [
        "marker.pose"
      ]
    },
    {
      "cell_type": "markdown",
      "metadata": {
        "id": "s2XZz30pfn_A"
      },
      "source": [
        "Finally, we can render a coordinate frame associated with the pose of each fiducial, into the original image.  The fiducial's z-axis is normal to its plane."
      ]
    },
    {
      "cell_type": "code",
      "execution_count": null,
      "metadata": {
        "id": "nihc3SySfn_A"
      },
      "outputs": [],
      "source": [
        "for marker in markers:\n",
        "    marker.draw(scene, length=0.10, thick=20)\n",
        "scene.disp();"
      ]
    },
    {
      "cell_type": "code",
      "execution_count": null,
      "metadata": {
        "id": "hL0hbJmv9t6k"
      },
      "outputs": [],
      "source": []
    }
  ],
  "metadata": {
    "colab": {
      "name": "fiducuals.ipynb",
      "provenance": []
    },
    "kernelspec": {
      "display_name": "Python 3",
      "language": "python",
      "name": "python3"
    },
    "language_info": {
      "codemirror_mode": {
        "name": "ipython",
        "version": 3
      },
      "file_extension": ".py",
      "mimetype": "text/x-python",
      "name": "python",
      "nbconvert_exporter": "python",
      "pygments_lexer": "ipython3",
      "version": "3.10.12"
    },
    "varInspector": {
      "cols": {
        "lenName": 16,
        "lenType": 16,
        "lenVar": 40
      },
      "kernels_config": {
        "python": {
          "delete_cmd_postfix": "",
          "delete_cmd_prefix": "del ",
          "library": "var_list.py",
          "varRefreshCmd": "print(var_dic_list())"
        },
        "r": {
          "delete_cmd_postfix": ") ",
          "delete_cmd_prefix": "rm(",
          "library": "var_list.r",
          "varRefreshCmd": "cat(var_dic_list()) "
        }
      },
      "types_to_exclude": [
        "module",
        "function",
        "builtin_function_or_method",
        "instance",
        "_Feature"
      ],
      "window_display": false
    }
  },
  "nbformat": 4,
  "nbformat_minor": 0
}
