{
  "cells": [
    {
      "cell_type": "markdown",
      "metadata": {
        "id": "3LAph1JQd853"
      },
      "source": [
        "<table>\n",
        "  <tr>\n",
        "    <td><img src=\"https://github.com/rvss-australia/RVSS/blob/main/Pics/RVSS-logo-col.med.jpg?raw=1\" width=\"400\"></td>\n",
        "    <td><div align=\"left\"><font size=\"30\">Finding blobs</font></div></td>\n",
        "  </tr>\n",
        "</table>\n",
        "\n",
        "(c) Peter Corke 2024\n",
        "\n",
        "Robotics, Vision & Control: Python, see section 12.1.3.4"
      ]
    },
    {
      "cell_type": "markdown",
      "metadata": {
        "id": "9cvpuJXed856"
      },
      "source": [
        "## Configuring the Jupyter environment\n",
        "We need to import some packages to help us with linear algebra (`numpy`), graphics (`matplotlib`), and machine vision (`machinevisiontoolbox`).\n",
        "If you're running locally you need to have these packages installed.  If you're running on CoLab we have to first install machinevisiontoolbox which is not preinstalled, this will be a bit slow."
      ]
    },
    {
      "cell_type": "code",
      "execution_count": 15,
      "metadata": {
        "id": "hZVsTop7d857"
      },
      "outputs": [],
      "source": [
        "try:\n",
        "    import google.colab\n",
        "    print('Running on CoLab')\n",
        "    !pip install machinevision-toolbox-python\n",
        "    COLAB = True\n",
        "except:\n",
        "    COLAB = False\n",
        "\n",
        "%matplotlib ipympl\n",
        "import matplotlib.pyplot as plt\n",
        "import matplotlib\n",
        "matplotlib.rcParams['figure.figsize'] = [8, 8]\n",
        "\n",
        "import numpy as np\n",
        "np.set_printoptions(linewidth=120, formatter={'float': lambda x: f\"{x:8.4g}\" if abs(x) > 1e-10 else f\"{0:8.4g}\"})\n",
        "\n",
        "# display result of assignments\n",
        "%config ZMQInteractiveShell.ast_node_interactivity = 'last_expr_or_assign'\n",
        "\n",
        "from machinevisiontoolbox import Image\n",
        "from spatialmath import SE3\n",
        "from spatialmath import base"
      ]
    },
    {
      "cell_type": "markdown",
      "metadata": {
        "id": "I4sc5wwad858"
      },
      "source": [
        "***\n",
        "\n",
        "# Find objects in a binary image\n",
        "\n",
        "We start by loading a binary image"
      ]
    },
    {
      "cell_type": "code",
      "execution_count": null,
      "metadata": {
        "id": "pB2NVnzRd859"
      },
      "outputs": [],
      "source": [
        "sharks = Image.Read('./shark2.png', grey=True)\n",
        "sharks.disp();"
      ]
    },
    {
      "cell_type": "markdown",
      "metadata": {
        "id": "dcEbN213d859"
      },
      "source": [
        "When we look at this we see two white objects, vaguely shark shaped, against a black background.  But the *objects* are a mental construct of ours, the image is simply 250,000 black and white pixels.  How do group adjacent pixels of the same color to find the objects?\n",
        "\n",
        "This is a very classical computer vision problem that goes by many names: blob analysis, connectivity analysis, region labelling and many more.\n",
        "Such objects in a binary object are often called *blobs*.\n",
        "\n",
        "Using this toolbox we simply write"
      ]
    },
    {
      "cell_type": "code",
      "execution_count": null,
      "metadata": {
        "id": "aB09CIFNd859"
      },
      "outputs": [],
      "source": [
        "blobs = sharks.blobs()"
      ]
    },
    {
      "cell_type": "markdown",
      "metadata": {
        "id": "AeceeIFdd85-"
      },
      "source": [
        "and the result is a feature object that describes *blobs*"
      ]
    },
    {
      "cell_type": "markdown",
      "metadata": {
        "id": "s46dtP7Id85-"
      },
      "source": [
        "The `blobs` object can describe a number of blobs, and in this case there are"
      ]
    },
    {
      "cell_type": "code",
      "execution_count": null,
      "metadata": {
        "id": "fGN9hWahd85-"
      },
      "outputs": [],
      "source": [
        "len(blobs)"
      ]
    },
    {
      "cell_type": "markdown",
      "metadata": {
        "id": "4oO51wxbd85-"
      },
      "source": [
        "blobs.  The background is also a blob, a black blob, but here we are ignoring that."
      ]
    },
    {
      "cell_type": "markdown",
      "metadata": {
        "id": "7E17CbbXd85_"
      },
      "source": [
        "This object can be indexed or sliced just like a list.  Each element has a number of properties such as its centroid (centre of mass)"
      ]
    },
    {
      "cell_type": "code",
      "execution_count": null,
      "metadata": {
        "id": "vYMwsTvld85_"
      },
      "outputs": [],
      "source": [
        "blobs[0].centroid"
      ]
    },
    {
      "cell_type": "markdown",
      "metadata": {
        "id": "1bYwIT0Ld85_"
      },
      "source": [
        "area in pixels"
      ]
    },
    {
      "cell_type": "code",
      "execution_count": null,
      "metadata": {
        "id": "ia0GlwROd86A"
      },
      "outputs": [],
      "source": [
        "blobs[0].area"
      ]
    },
    {
      "cell_type": "markdown",
      "metadata": {
        "id": "PtfHS3ktd86A"
      },
      "source": [
        "and a bounding box"
      ]
    },
    {
      "cell_type": "code",
      "execution_count": null,
      "metadata": {
        "id": "ZnF0N-FAd86A"
      },
      "outputs": [],
      "source": [
        "blobs[0].bbox"
      ]
    },
    {
      "cell_type": "markdown",
      "metadata": {
        "id": "gQKtyCZqd86A"
      },
      "source": [
        "where the first row is the u-axis range, and the second row is the v-axis range.  Alternatively we can consider the columns: the first column is the top-left coordinate and the second column is the bottom-right coordinate."
      ]
    },
    {
      "cell_type": "code",
      "execution_count": null,
      "metadata": {
        "id": "v4EKdDcyd86B"
      },
      "outputs": [],
      "source": [
        "sharks.disp(block=None)\n",
        "blobs.plot_box(color='yellow', linewidth=2)\n",
        "blobs.plot_centroid()"
      ]
    },
    {
      "cell_type": "markdown",
      "metadata": {
        "id": "YqtDE9X6d86B"
      },
      "source": [
        "which depicts and labels each blob.  We also marked the centroids."
      ]
    },
    {
      "cell_type": "markdown",
      "metadata": {
        "id": "GqkGiz_3d86B"
      },
      "source": [
        "which add a marker to the plot above."
      ]
    },
    {
      "cell_type": "markdown",
      "metadata": {
        "id": "sdnL_-Dhd86C"
      },
      "source": [
        "Now we will load a more complex image that has blobs with holes in them"
      ]
    },
    {
      "cell_type": "code",
      "execution_count": null,
      "metadata": {
        "id": "gX6UFF9zd86C"
      },
      "outputs": [],
      "source": [
        "multi = Image.Read('multiblobs.png', grey=True)\n",
        "multi.disp();"
      ]
    },
    {
      "cell_type": "markdown",
      "metadata": {
        "id": "T66pjgYOd86C"
      },
      "source": [
        "There are 10 blobs here and we can display their parameters"
      ]
    },
    {
      "cell_type": "code",
      "execution_count": null,
      "metadata": {
        "id": "lDMd2dsEd86C"
      },
      "outputs": [],
      "source": [
        "blobs = multi.blobs()\n",
        "len(blobs)"
      ]
    },
    {
      "cell_type": "code",
      "execution_count": null,
      "metadata": {
        "id": "32_Hmypyd86D"
      },
      "outputs": [],
      "source": [
        "print(blobs)"
      ]
    },
    {
      "cell_type": "markdown",
      "metadata": {
        "id": "jh9fbZHJd86D"
      },
      "source": [
        "We note that this time some of the blobs have a parent that is not -1.  Looking at the figure it's clear that we have some blob hierarchy information"
      ]
    },
    {
      "cell_type": "code",
      "execution_count": 26,
      "metadata": {
        "id": "ViPOvlVPd86D"
      },
      "outputs": [],
      "source": [
        "blobs[5].parent"
      ]
    },
    {
      "cell_type": "code",
      "execution_count": null,
      "metadata": {
        "id": "2lerQOFsd86D"
      },
      "outputs": [],
      "source": [
        "blobs[5].children"
      ]
    },
    {
      "cell_type": "code",
      "execution_count": null,
      "metadata": {
        "id": "7BC_dUe9d86E"
      },
      "outputs": [],
      "source": [
        "multi.disp(block=None)\n",
        "blobs.plot_box(color='yellow', linewidth=2)"
      ]
    },
    {
      "cell_type": "code",
      "execution_count": null,
      "metadata": {
        "id": "2gu7mq0g_glp"
      },
      "outputs": [],
      "source": []
    }
  ],
  "metadata": {
    "colab": {
      "name": "finding-blobs.ipynb",
      "provenance": []
    },
    "kernelspec": {
      "display_name": "dev",
      "language": "python",
      "name": "python3"
    },
    "language_info": {
      "codemirror_mode": {
        "name": "ipython",
        "version": 3
      },
      "file_extension": ".py",
      "mimetype": "text/x-python",
      "name": "python",
      "nbconvert_exporter": "python",
      "pygments_lexer": "ipython3",
      "version": "3.10.16"
    },
    "varInspector": {
      "cols": {
        "lenName": 16,
        "lenType": 16,
        "lenVar": 40
      },
      "kernels_config": {
        "python": {
          "delete_cmd_postfix": "",
          "delete_cmd_prefix": "del ",
          "library": "var_list.py",
          "varRefreshCmd": "print(var_dic_list())"
        },
        "r": {
          "delete_cmd_postfix": ") ",
          "delete_cmd_prefix": "rm(",
          "library": "var_list.r",
          "varRefreshCmd": "cat(var_dic_list()) "
        }
      },
      "types_to_exclude": [
        "module",
        "function",
        "builtin_function_or_method",
        "instance",
        "_Feature"
      ],
      "window_display": false
    }
  },
  "nbformat": 4,
  "nbformat_minor": 0
}
