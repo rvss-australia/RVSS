{
  "cells": [
    {
      "cell_type": "markdown",
      "metadata": {
        "id": "GOBPjUzoqL5j"
      },
      "source": [
        "<table>\n",
        "  <tr>\n",
        "    <td><img src=\"https://github.com/rvss-australia/RVSS/blob/main/Pics/RVSS-logo-col.med.jpg?raw=1\" width=\"400\"></td>\n",
        "    <td><div align=\"left\"><font size=\"30\">Planar homography</font></div></td>\n",
        "  </tr>\n",
        "</table>\n",
        "\n",
        "(c) Peter Corke 2024\n",
        "\n",
        "Robotics, Vision & Control: Python, see section 13.6.2"
      ]
    },
    {
      "cell_type": "markdown",
      "metadata": {
        "id": "l-p9YGCUqRra"
      },
      "source": [
        "## Configuring the Jupyter environment\n",
        "We need to import some packages to help us with linear algebra (`numpy`), graphics (`matplotlib`), and machine vision (`machinevisiontoolbox`).\n",
        "If you're running locally you need to have these packages installed.  If you're running on CoLab we have to first install machinevisiontoolbox which is not preinstalled, this will be a bit slow."
      ]
    },
    {
      "cell_type": "code",
      "execution_count": 1,
      "metadata": {
        "id": "NGGDoC29qR1a"
      },
      "outputs": [],
      "source": [
        "try:\n",
        "    import google.colab\n",
        "    print('Running on CoLab')\n",
        "    !pip install machinevision-toolbox-python\n",
        "    COLAB = True\n",
        "except:\n",
        "    COLAB = False\n",
        "    \n",
        "%matplotlib ipympl\n",
        "\n",
        "import numpy as np\n",
        "np.set_printoptions(linewidth=120, formatter={'float': lambda x: f\"{x:8.4g}\" if abs(x) > 1e-10 else f\"{0:8.4g}\"})\n",
        "\n",
        "from spatialmath import SE3\n",
        "from spatialmath.base import e2h, h2e, homtrans, plot_sphere\n",
        "from machinevisiontoolbox import CentralCamera\n"
      ]
    },
    {
      "cell_type": "markdown",
      "metadata": {
        "id": "CNcehwNmqL5t"
      },
      "source": [
        "***\n",
        "\n",
        "We define a central perspective camera, up high, looking obliquely downward at the ground"
      ]
    },
    {
      "cell_type": "code",
      "execution_count": 2,
      "metadata": {
        "id": "vAIz_xK9qL5u"
      },
      "outputs": [],
      "source": [
        "camera = CentralCamera(f=0.012, rho=10e-6, imagesize=1000, \n",
        "        pose=SE3(0, 0, 8) * SE3.Rx(-2.8))"
      ]
    },
    {
      "cell_type": "markdown",
      "metadata": {},
      "source": [
        "And we can plot the camera in the 3D world"
      ]
    },
    {
      "cell_type": "code",
      "execution_count": null,
      "metadata": {},
      "outputs": [],
      "source": [
        "ax = camera.plot(scale=2, shape='camera', color='k', frame=True)\n",
        "ax.set_xlim(-8, 12)\n",
        "ax.set_ylim(-10, 10)\n",
        "ax.set_zlim(0, 10)"
      ]
    },
    {
      "cell_type": "markdown",
      "metadata": {
        "id": "ZNY-AQvCqL5u"
      },
      "source": [
        "A shape on the ground plane is defined by a set of 2D coordinates"
      ]
    },
    {
      "cell_type": "code",
      "execution_count": null,
      "metadata": {
        "id": "THUZYQIsqL5v"
      },
      "outputs": [],
      "source": [
        "P = np.column_stack([[-1, 1], [-1, 2], [ 2,2], [2, 1]])\n",
        "P"
      ]
    },
    {
      "cell_type": "markdown",
      "metadata": {
        "id": "pY0n-LzTqL5w"
      },
      "source": [
        "We can project the ground plane points onto the image plane by making them 3D points, we augment each column with a zero, since the ground plane is defined by $z=0$"
      ]
    },
    {
      "cell_type": "code",
      "execution_count": null,
      "metadata": {
        "id": "xYqu8FTkqL5w"
      },
      "outputs": [],
      "source": [
        "camera.project_point(np.vstack([P, np.zeros((4,))]))"
      ]
    },
    {
      "cell_type": "markdown",
      "metadata": {
        "id": "Mqfb7FI9qL5w"
      },
      "source": [
        "The homography is computed from the camera matrix by deleting column two (the z column)"
      ]
    },
    {
      "cell_type": "code",
      "execution_count": null,
      "metadata": {
        "id": "PvetB5hLqL5x"
      },
      "outputs": [],
      "source": [
        "H = np.delete(camera.C(), 2, axis=1)\n",
        "H"
      ]
    },
    {
      "cell_type": "markdown",
      "metadata": {
        "id": "1TlYJip_qL5x"
      },
      "source": [
        "We can use this matrix to directly compute the image plane points, by transforming the homogeneous ground plane points"
      ]
    },
    {
      "cell_type": "code",
      "execution_count": null,
      "metadata": {
        "id": "FvypDqy7qL5y"
      },
      "outputs": [],
      "source": [
        "h2e(H @ e2h(P))"
      ]
    },
    {
      "cell_type": "markdown",
      "metadata": {
        "id": "8MuxmN4lqL5y"
      },
      "source": [
        "or more simply"
      ]
    },
    {
      "cell_type": "code",
      "execution_count": null,
      "metadata": {
        "id": "hZQayaEwqL5z"
      },
      "outputs": [],
      "source": [
        "homtrans(H, P)"
      ]
    },
    {
      "cell_type": "markdown",
      "metadata": {},
      "source": [
        "which first converts `P` to homogeneous form, performs the multiplication, then converts the resulting homogeneous coordinates to Euclidean."
      ]
    },
    {
      "cell_type": "markdown",
      "metadata": {},
      "source": [
        "\n",
        "H is square and of full rank, so it is invertible. This means that we can perform the inverse mapping, from the image plane\n",
        "to the ground plane.\n",
        "\n",
        "The camera has a 1000 x 1000 image plane so the coordinates of its corners are\n"
      ]
    },
    {
      "cell_type": "code",
      "execution_count": null,
      "metadata": {},
      "outputs": [],
      "source": [
        "p = np.column_stack([[0, 0], [0, 1000], [1000, 1000], [1000, 0]])\n",
        "p"
      ]
    },
    {
      "cell_type": "markdown",
      "metadata": {},
      "source": [
        "and on the ground plane these are the points"
      ]
    },
    {
      "cell_type": "code",
      "execution_count": null,
      "metadata": {},
      "outputs": [],
      "source": [
        "Pi = homtrans(np.linalg.inv(H), p)\n",
        "Pi"
      ]
    },
    {
      "cell_type": "markdown",
      "metadata": {},
      "source": [
        "which we can overlay the camera's field of view (the corners of the image plane) onto the \"world view\" of the imaging setup that we showed earlier"
      ]
    },
    {
      "cell_type": "code",
      "execution_count": null,
      "metadata": {},
      "outputs": [],
      "source": [
        "ax = camera.plot(scale=2, shape='camera', color='k', frame=True)\n",
        "k = [0, 1, 2, 3, 0]\n",
        "ax.plot(Pi[0, k], Pi[1, k], np.zeros(5), 'b--')\n"
      ]
    }
  ],
  "metadata": {
    "colab": {
      "name": "camera.ipynb",
      "provenance": []
    },
    "kernelspec": {
      "display_name": "dev",
      "language": "python",
      "name": "python3"
    },
    "language_info": {
      "codemirror_mode": {
        "name": "ipython",
        "version": 3
      },
      "file_extension": ".py",
      "mimetype": "text/x-python",
      "name": "python",
      "nbconvert_exporter": "python",
      "pygments_lexer": "ipython3",
      "version": "3.10.16"
    },
    "varInspector": {
      "cols": {
        "lenName": 16,
        "lenType": 16,
        "lenVar": 40
      },
      "kernels_config": {
        "python": {
          "delete_cmd_postfix": "",
          "delete_cmd_prefix": "del ",
          "library": "var_list.py",
          "varRefreshCmd": "print(var_dic_list())"
        },
        "r": {
          "delete_cmd_postfix": ") ",
          "delete_cmd_prefix": "rm(",
          "library": "var_list.r",
          "varRefreshCmd": "cat(var_dic_list()) "
        }
      },
      "types_to_exclude": [
        "module",
        "function",
        "builtin_function_or_method",
        "instance",
        "_Feature"
      ],
      "window_display": false
    }
  },
  "nbformat": 4,
  "nbformat_minor": 0
}
