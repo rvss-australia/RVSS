{
 "cells": [
  {
   "cell_type": "markdown",
   "metadata": {},
   "source": [
    "<table>\n",
    "  <tr>\n",
    "    <td><img src=\"https://github.com/rvss-australia/RVSS/blob/main/Pics/RVSS-logo-col.med.jpg?raw=1\" width=\"400\"></td>\n",
    "    <td><div align=\"left\"><font size=\"30\">Homogeneous coordinates</font></div></td>\n",
    "  </tr>\n",
    "</table>\n",
    "\n",
    "(c) Peter Corke 2024\n",
    "\n",
    "Robotics, Vision & Control: Python, see excurse 2.7, appendix C.2"
   ]
  },
  {
   "cell_type": "code",
   "execution_count": null,
   "metadata": {},
   "outputs": [],
   "source": [
    "import numpy as np\n",
    "import sys\n",
    "\n",
    "%matplotlib ipympl\n",
    "import matplotlib.pyplot as plt\n",
    "from spatialmath.base import colvec, e2h, h2e\n",
    "# from IPython.core.display import HTML\n",
    "# HTML(open(\"extra.css\", \"r\").read())"
   ]
  },
  {
   "cell_type": "markdown",
   "metadata": {},
   "source": [
    "***\n",
    "# Homogeneous coordinates\n",
    "Homogeneous or projective coordinates  are a system of coordinates used in projective geometry, just as Cartesian coordinates are used in Euclidean geometry. They have the advantage that the coordinates of points, including points at infinity, can be represented using finite coordinates. They are widely used in computer graphics, computer vision and robotics.\n",
    "\n",
    "## Homogeneous points\n",
    "\n",
    "### Converting Euclidean coordinates to homogeneous coordinates\n",
    "A Euclidean point $(x,y) \\in \\mathbb{R}^2$ can be represented in homogeneous coordinates by a 3-vector $(x,y,1) \\in \\mathbb{P}^2$.  We have increased the dimension of the vector by one and appended a one.  \n",
    "\n",
    "We will represent points by column vectors (a $2 \\times 1$ matrix)"
   ]
  },
  {
   "cell_type": "code",
   "execution_count": null,
   "metadata": {},
   "outputs": [],
   "source": [
    "p = colvec([2, 3])\n",
    "p"
   ]
  },
  {
   "cell_type": "markdown",
   "metadata": {},
   "source": [
    "Note that `colvec` is a convenience function defined in `common.py`.\n",
    "\n",
    "To make it homogeneous we could use `numpy` commands"
   ]
  },
  {
   "cell_type": "code",
   "execution_count": null,
   "metadata": {},
   "outputs": [],
   "source": [
    "ph = np.vstack( (p, 1))\n",
    "ph"
   ]
  },
  {
   "cell_type": "markdown",
   "metadata": {},
   "source": [
    "but we have defined another convenience function `e2h`"
   ]
  },
  {
   "cell_type": "code",
   "execution_count": null,
   "metadata": {},
   "outputs": [],
   "source": [
    "e2h(p)"
   ]
  },
  {
   "cell_type": "markdown",
   "metadata": {},
   "source": [
    "which does the same thing.\n",
    "\n",
    "We can apply this trick to Euclidean points in any dimension, i.e. a 3D Euclidean point becomes a 4-vector in projective space."
   ]
  },
  {
   "cell_type": "markdown",
   "metadata": {},
   "source": [
    "### Converting homogeneous coordinates to Euclidean coordinates\n",
    "To convert back to Euclidean coordinates we drop the last element of the vector, lower the dimension by one, but we divide through by that last element.\n",
    "\n",
    "This is trivial in the case we've shown where the last element is equal to one but that is not always the case.\n",
    "\n",
    "Consider the homogeneous coordinate $\\tilde{p} = (4, 8, 2)$ \n",
    "\n",
    "Note that I use the notation $\\tilde{p}$ to indicate a homogeneous coordinate, or in code I add the suffix \"h\"."
   ]
  },
  {
   "cell_type": "markdown",
   "metadata": {},
   "source": []
  },
  {
   "cell_type": "code",
   "execution_count": null,
   "metadata": {},
   "outputs": [],
   "source": [
    "ph = colvec([4, 8, 2])\n",
    "p = ph[0:2] / ph[2]\n",
    "p"
   ]
  },
  {
   "cell_type": "markdown",
   "metadata": {},
   "source": [
    "Once again, there is a convenience function for this called `h2e`"
   ]
  },
  {
   "cell_type": "code",
   "execution_count": null,
   "metadata": {},
   "outputs": [],
   "source": [
    "p = h2e(ph)\n",
    "p"
   ]
  },
  {
   "cell_type": "markdown",
   "metadata": {},
   "source": [
    "A key property of homogeneous coordinates is that the overall scale does not matter, that is $\\tilde{p}$ is equivalent to $\\lambda \\tilde{p}$ so long as $\\lambda \\ne 0$. Again this is easy to confirm"
   ]
  },
  {
   "cell_type": "code",
   "execution_count": null,
   "metadata": {},
   "outputs": [],
   "source": [
    "h2e(10*ph)"
   ]
  },
  {
   "cell_type": "markdown",
   "metadata": {},
   "source": [
    "gives the same answer as above.\n",
    "\n",
    "<p style=\"border:3px; border-style:solid; border-color:#FF0000; padding: 1em;\">Note that this fails if the last element of the vector is zero. Such a coordinate represents a point at infinity and is referred to as an ideal point. It is ideal, not in the sense it's a perfect point that everybody would want to have, but as in imaginery or unachievable.</p>"
   ]
  },
  {
   "cell_type": "markdown",
   "metadata": {},
   "source": [
    "## Visualising homgeneous coordinates\n",
    "\n",
    "For points in the 2D plane we can visualise this dimensional lift as shown in the following animation.  The Euclidean plane is the plane $z=1$ shown in red.  You can adjust the $x$ and $y$ slides to move the Euclidean point on that plane.  The homogeneous coordinate is shown as a 3D vector of length $\\lambda$.  You can see that varying the length changes the value of the homgeneous coordinate but not the Euclidean coordinate."
   ]
  },
  {
   "cell_type": "code",
   "execution_count": null,
   "metadata": {
    "scrolled": false
   },
   "outputs": [],
   "source": [
    "from mpl_toolkits.mplot3d import Axes3D\n",
    "import mpl_toolkits.mplot3d.art3d as art3d\n",
    "\n",
    "import ipywidgets as widgets\n",
    "\n",
    "\n",
    "verts = np.array([\n",
    "    [-5, -5],\n",
    "    [-5,  5],\n",
    "    [ 5,  5],\n",
    "    [ 5, -5] ])\n",
    "\n",
    "eucl = widgets.Text(layout=widgets.Layout(width='50%'))\n",
    "display(eucl)\n",
    "hom = widgets.Text(layout=widgets.Layout(width='50%'))\n",
    "display(hom)\n",
    "\n",
    "\n",
    "@widgets.interact\n",
    "def animate( x = widgets.FloatSlider(value=2, description='x:', min=-4, max=4),\n",
    "             y = widgets.FloatSlider(value=3, description='y:', min=-4, max=4),\n",
    "             lam = widgets.FloatSlider(value=1, description='𝜆', min=0.2, max=5)):\n",
    "    fig = plt.figure()\n",
    "    ax = plt.axes(projection='3d')\n",
    "    p = plt.Polygon(verts, alpha=0.7, color=\"r\")\n",
    "\n",
    "    ax.add_patch(p)\n",
    "    art3d.pathpatch_2d_to_3d(p, z=1, zdir=\"z\")\n",
    "\n",
    "    ax.set_xlim3d(-5, 5)\n",
    "    ax.set_ylim3d(-5, 5)\n",
    "    ax.set_zlim3d(0, 5)\n",
    "    ax.set_xlabel('X')\n",
    "    ax.set_ylabel('Y')\n",
    "    ax.set_zlabel('Z')\n",
    "\n",
    "    ax.quiver(0, 0, 0, x*lam, y*lam, lam, arrow_length_ratio=0.1)\n",
    "    ax.scatter3D(x, y, 1, 'ko')\n",
    "    plt.show()\n",
    "    \n",
    "    eucl.value = \"Euclidean coordinate:   (%f, %f)\" % (x, y)\n",
    "    hom.value = \"Homogeneous coordinate: (%f, %f, %f)\" % (x*lam, y*lam, lam)"
   ]
  },
  {
   "cell_type": "markdown",
   "metadata": {},
   "source": []
  },
  {
   "cell_type": "markdown",
   "metadata": {},
   "source": [
    "## Point equation of a line\n",
    "Lines in 2D space can also be represented in homogeneous form.\n",
    "\n",
    "Consider the line $y = x-2$ which we can rearrange as $x-y-2=0$ and then rewrite it in matrix form  as \n",
    "\\begin{equation}\n",
    "\\begin{pmatrix}1 & -1 & -2\\end{pmatrix} \\begin{pmatrix} x\\\\y\\\\1 \\end{pmatrix} = 0\n",
    "\\end{equation}\n",
    "which we call the point equation of a line.  It's the product of the line in homogeneous form, represented by a row vector\n",
    "\\begin{equation}\n",
    "\\ell = \\begin{pmatrix}1 & -1 & -2\\end{pmatrix}\n",
    "\\end{equation}\n",
    "multiplied by a homogeneous point\n",
    "\\begin{equation}\n",
    "\\tilde{p} = \\begin{pmatrix}x \\\\ y \\\\ 1\\end{pmatrix}\n",
    "\\end{equation}\n",
    "represented by a column vector.\n",
    "\n",
    "The advantage of representing a line this way, compared to $y=mx+c$, is that it easy to represent a vertical line, for example, $\\ell = (1, 0, -2)$ is the vertical line $x=2$.\n",
    "\n",
    "<p style=\"border:3px; border-style:solid; border-color:#FF0000; padding: 1em;\">Note that for the Euclidean plane points and lines are duals.  This is not the case for 3D Euclidean space.  A homogeneous coordinate where the first two element are zero is referred to as the *ideal* line.</p>"
   ]
  },
  {
   "cell_type": "markdown",
   "metadata": {},
   "source": [
    "## Join of two points in the Euclidean plane\n",
    "\n",
    "Consider two points $p_1 = (1,2)$ and $p_2 = (3,3)$"
   ]
  },
  {
   "cell_type": "code",
   "execution_count": 9,
   "metadata": {},
   "outputs": [],
   "source": [
    "p1 = colvec([1, 2])\n",
    "p2 = colvec([3, 3])"
   ]
  },
  {
   "cell_type": "markdown",
   "metadata": {},
   "source": [
    "which we can convert to homogeneous form"
   ]
  },
  {
   "cell_type": "code",
   "execution_count": null,
   "metadata": {},
   "outputs": [],
   "source": [
    "p1h = e2h(p1)\n",
    "p2h = e2h(p2)\n",
    "print(\"p1h =\\n\", p1h)\n",
    "print(\"p2h =\\n\", p2h)"
   ]
  },
  {
   "cell_type": "markdown",
   "metadata": {},
   "source": [
    "A line joining these two points is given by the cross product"
   ]
  },
  {
   "cell_type": "code",
   "execution_count": null,
   "metadata": {},
   "outputs": [],
   "source": [
    "l = np.cross(p1h.T, p2h.T).reshape((3,))\n",
    "print(l)"
   ]
  },
  {
   "cell_type": "markdown",
   "metadata": {},
   "source": [
    "<p style=\"border:3px; border-style:solid; border-color:#FF0000; padding: 1em;\">Note that the numpy cross method only accepts row vectors.</p>\n",
    "\n",
    "We can easily validate this by plotting the two points, and the computed line.  Note that the line is given in point equation form $$\\begin{pmatrix} \\ell_0 & \\ell_1 & \\ell_2 \\end{pmatrix} \\begin{pmatrix}x \\\\ y \\\\ 1\\end{pmatrix} = 0$$ which we can rewrite as $\\ell_0 x + \\ell_1 y +  \\ell_2 = 0$ and then as $y = -\\ell_0/\\ell_1 x - \\ell_2/\\ell_1$ to plot in conventional form"
   ]
  },
  {
   "cell_type": "code",
   "execution_count": null,
   "metadata": {},
   "outputs": [],
   "source": [
    "plt.figure()\n",
    "plt.plot(p1[0], p1[1], 'ro')\n",
    "plt.plot(p2[0], p2[1], 'bo')\n",
    "x = np.linspace(0, 4, 100)  # x span for the line segment\n",
    "y = (-l[0]*x - l[2]) / l[1] # y = f(x)\n",
    "plt.plot(x, y)"
   ]
  },
  {
   "cell_type": "markdown",
   "metadata": {},
   "source": [
    "## Intersection of two lines in the Euclidean plane\n",
    "Now consider two lines: $y = x-2$, and also $y = -2x+6$.\n",
    "They can be represented in homogeneous form as 3-tuples\n",
    "\\begin{align}\n",
    "\\ell_1 &= \\begin{pmatrix}1 & -1 & -2\\end{pmatrix} \\\\\n",
    "\\ell_2 &= \\begin{pmatrix}-2 & -1 & 6\\end{pmatrix}\n",
    "\\end{align}\n",
    "In python this is"
   ]
  },
  {
   "cell_type": "code",
   "execution_count": 19,
   "metadata": {},
   "outputs": [],
   "source": [
    "l1 = np.array([1, -1, -2])\n",
    "l2 = np.array([-2, -1, 6])"
   ]
  },
  {
   "cell_type": "markdown",
   "metadata": {},
   "source": [
    "The intersection point of the two lines is the homogeneous point given by the cross product"
   ]
  },
  {
   "cell_type": "code",
   "execution_count": null,
   "metadata": {},
   "outputs": [],
   "source": [
    "p = np.cross(l1, l2)\n",
    "p"
   ]
  },
  {
   "cell_type": "code",
   "execution_count": null,
   "metadata": {
    "scrolled": true
   },
   "outputs": [],
   "source": [
    "# plot the lines for x=[0,4]\n",
    "x = np.linspace(0, 4, 100)\n",
    "plt.figure()\n",
    "plt.plot(x, x-2, 'r')\n",
    "plt.plot(x, -2*x+6, 'b')\n",
    "\n",
    "# plot the point, first of all convert from homogeneous to Euclidean\n",
    "pe = p[0:2] / p[2]\n",
    "print(pe)\n",
    "plt.plot(pe[0], pe[1], 'ko')"
   ]
  },
  {
   "cell_type": "markdown",
   "metadata": {},
   "source": [
    "## Parallel lines\n",
    "Consider two parallel lines $y=x$ and $y=x+1$ which in homogeneous form are\n",
    "\\begin{align}\n",
    "\\ell_1 &= \\begin{pmatrix} 1 & -1 & 0\\end{pmatrix} \\\\\n",
    "\\ell_2 &= \\begin{pmatrix} 1 & -1 & 1\\end{pmatrix}\n",
    "\\end{align}\n",
    "then their intersection would be "
   ]
  },
  {
   "cell_type": "code",
   "execution_count": null,
   "metadata": {},
   "outputs": [],
   "source": [
    "l1 = np.array([1, -1, 0])\n",
    "l2 = np.array([1, -1, 1])\n",
    "p = np.cross(l1, l2)\n",
    "p"
   ]
  },
  {
   "cell_type": "markdown",
   "metadata": {},
   "source": [
    "which we see has its third element equal to zero. This is an ideal point or a point at infinity.  Bottom line, two parallel lines intersect at infinity.  "
   ]
  },
  {
   "cell_type": "markdown",
   "metadata": {},
   "source": [
    "# Key points\n",
    "* Any point in the projective plane is represented by a triple (X, Y, Z), called the homogeneous coordinates or projective coordinates of the point, where X, Y and Z are not all 0.\n",
    "* The point represented by a given set of homogeneous coordinates is unchanged if the coordinates are multiplied by a common factor.\n",
    "* Conversely, two sets of homogeneous coordinates represent the same point if and only if one is obtained from the other by multiplying all the coordinates by the same non-zero constant.\n",
    "* When Z is not 0 the point represented is the point (X/Z, Y/Z) in the Euclidean plane.\n",
    "* When Z is 0 the point represented is a point at infinity and is called the _ideal point_.\n",
    "\n",
    "The great thing about using homogeneous coordinates is that there is no need for tests about lines being vertical (infinite gradients) or not intersecting.  It all comes out in the wash."
   ]
  }
 ],
 "metadata": {
  "kernelspec": {
   "display_name": "dev",
   "language": "python",
   "name": "python3"
  },
  "language_info": {
   "codemirror_mode": {
    "name": "ipython",
    "version": 3
   },
   "file_extension": ".py",
   "mimetype": "text/x-python",
   "name": "python",
   "nbconvert_exporter": "python",
   "pygments_lexer": "ipython3",
   "version": "3.10.16"
  },
  "varInspector": {
   "cols": {
    "lenName": 16,
    "lenType": 16,
    "lenVar": 40
   },
   "kernels_config": {
    "python": {
     "delete_cmd_postfix": "",
     "delete_cmd_prefix": "del ",
     "library": "var_list.py",
     "varRefreshCmd": "print(var_dic_list())"
    },
    "r": {
     "delete_cmd_postfix": ") ",
     "delete_cmd_prefix": "rm(",
     "library": "var_list.r",
     "varRefreshCmd": "cat(var_dic_list()) "
    }
   },
   "types_to_exclude": [
    "module",
    "function",
    "builtin_function_or_method",
    "instance",
    "_Feature"
   ],
   "window_display": false
  }
 },
 "nbformat": 4,
 "nbformat_minor": 4
}
