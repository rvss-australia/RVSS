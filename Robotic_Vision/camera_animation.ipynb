{
 "cells": [
  {
   "cell_type": "markdown",
   "metadata": {},
   "source": [
    "<table>\n",
    "  <tr>\n",
    "    <td><img src=\"https://github.com/rvss-australia/RVSS/blob/main/Pics/RVSS-logo-col.med.jpg?raw=1\" width=\"400\"></td>\n",
    "    <td><div align=\"left\"><font size=\"30\">Modeling a perspective camera</font></div></td>\n",
    "  </tr>\n",
    "</table>\n",
    "\n",
    "(c) Peter Corke 2024\n",
    "\n",
    "Robotics, Vision & Control: Python, see section 13.1.2"
   ]
  },
  {
   "cell_type": "markdown",
   "metadata": {},
   "source": [
    "## Configuring the Jupyter environment\n",
    "We need to import some packages to help us with linear algebra (`numpy`), graphics (`matplotlib`), and machine vision (`machinevisiontoolbox`).\n",
    "If you're running locally you need to have these packages installed.  If you're running on CoLab we have to first install machinevisiontoolbox which is not preinstalled, this will be a bit slow."
   ]
  },
  {
   "cell_type": "code",
   "execution_count": 1,
   "metadata": {},
   "outputs": [],
   "source": [
    "import numpy as np\n",
    "import matplotlib.pyplot as plt\n",
    "from mpl_toolkits.mplot3d import Axes3D\n",
    "import mpl_toolkits.mplot3d.art3d as art3d\n",
    "import ipywidgets as widgets\n",
    "%matplotlib inline"
   ]
  },
  {
   "cell_type": "markdown",
   "metadata": {},
   "source": [
    "***\n",
    "\n",
    "The sort of camera that we have in our eye and in our mobile phone performs a mapping from the 3D world to a 2D image. The particular mapping is called a perspective projection, and the underlying mathematics is very simple.\n",
    "\n",
    "Two models are generally used:\n",
    "\n",
    "1.  The \"pinhole camera\" model, which produces an inverted image, using a pinhole approximation to a lens.\n",
    "2.  The central projection model, widely used in the computer vision literature, which creates a non-inverted image.\n",
    "\n",
    "For a camera at the origin looking out along the z-axis (its optical axis) and a point in the world at $P = (X, Y, Z)$ the 2D projection on the image plane will be $p=(x,y)$ where\n",
    "\\begin{equation}\n",
    "x = \\frac{fX}{Z}, y = \\frac{fY}{Z}\n",
    "\\end{equation}\n",
    "and $f$ is the focal length of the lense.\n",
    "\n",
    "The simple animation below lets you adjust the coordinates $(X, Y, Z)$ and that alters the projection ray, from\n",
    "the origin through that point. Where that ray pierces the imageplane at $Z=f$ is the image-plane projection of that world point.\n",
    "\n",
    "Have a play.  Convince yourself that an infinite number of points in the world have the same image-plane projection."
   ]
  },
  {
   "cell_type": "code",
   "execution_count": null,
   "metadata": {},
   "outputs": [],
   "source": [
    "verts = np.array([\n",
    "    [-5, -5],\n",
    "    [-5,  5],\n",
    "    [ 5,  5],\n",
    "    [ 5, -5] ])\n",
    "\n",
    "@widgets.interact\n",
    "def animate( X = widgets.FloatSlider(value=1, description='X:', min=-4, max=4),\n",
    "             Y = widgets.FloatSlider(value=1, description='Y:', min=-4, max=4),\n",
    "             Z = widgets.FloatSlider(value=2, description='Z:', min=1, max=5),\n",
    "             f = widgets.FloatSlider(value=1, description='f', min=0.1, max=1.5)):\n",
    "    fig = plt.figure(figsize=(10, 10))\n",
    "    ax = plt.axes(projection='3d')\n",
    "    p = plt.Polygon(verts, alpha=0.7, color=\"lightyellow\")\n",
    "\n",
    "    ax.add_patch(p)\n",
    "    art3d.pathpatch_2d_to_3d(p, z=f, zdir=\"z\")\n",
    "\n",
    "    ax.set_xlim3d(-5, 5)\n",
    "    ax.set_ylim3d(-5, 5)\n",
    "    ax.set_zlim3d(0, 5)\n",
    "    ax.set_xlabel('X')\n",
    "    ax.set_ylabel('Y')\n",
    "    ax.set_zlabel('Z')\n",
    "    P = ax.scatter3D(X, Y, Z, 'bo')\n",
    "    P.set_sizes([40])\n",
    "    ax.quiver(0, 0, 0, X, Y, Z, arrow_length_ratio=0.1)\n",
    "    x = X * f / Z\n",
    "    y = Y * f / Z\n",
    "    p = ax.scatter3D(x, y, f, 'ko')\n",
    "    p.set_sizes([20])\n",
    "\n",
    "    ax.text(X, Y, Z, \"   P\")\n",
    "    ax.text(x, y, f,  \"  p = (%.3f, %.3f)\" % (x, y))\n",
    "    plt.show()\n",
    "    \n",
    "    # uv_coords.value = \"Image-plane coordinate:   (%.3f, %.3f)\" % (x, y)\n"
   ]
  }
 ],
 "metadata": {
  "kernelspec": {
   "display_name": "dev",
   "language": "python",
   "name": "python3"
  },
  "language_info": {
   "codemirror_mode": {
    "name": "ipython",
    "version": 3
   },
   "file_extension": ".py",
   "mimetype": "text/x-python",
   "name": "python",
   "nbconvert_exporter": "python",
   "pygments_lexer": "ipython3",
   "version": "3.10.16"
  },
  "orig_nbformat": 4
 },
 "nbformat": 4,
 "nbformat_minor": 2
}
