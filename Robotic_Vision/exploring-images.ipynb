{
 "cells": [
  {
   "cell_type": "markdown",
   "metadata": {},
   "source": [
    "<table>\n",
    "  <tr>\n",
    "    <td><img src=\"https://github.com/rvss-australia/RVSS/blob/main/Pics/RVSS-logo-col.med.jpg?raw=1\" width=\"400\"></td>\n",
    "    <td><div align=\"left\"><font size=\"30\">Exploring images and pixels</font></div></td>\n",
    "  </tr>\n",
    "</table>\n",
    "\n",
    "(c) Peter Corke 2025\n",
    "\n",
    "Robotics, Vision & Control: Python, see section 11.1"
   ]
  },
  {
   "cell_type": "markdown",
   "metadata": {},
   "source": [
    "Set matplotlib for interactive display within the notebook, then import the `Image` object from the Machine Vision Toolbox."
   ]
  },
  {
   "cell_type": "code",
   "execution_count": 55,
   "metadata": {},
   "outputs": [],
   "source": [
    "%matplotlib ipympl\n",
    "from machinevisiontoolbox import Image"
   ]
  },
  {
   "cell_type": "markdown",
   "metadata": {},
   "source": [
    "# The `Image` class\n",
    "\n",
    "To illustrate the usage of the `Image` class we will import a colorful image  "
   ]
  },
  {
   "cell_type": "code",
   "execution_count": 56,
   "metadata": {},
   "outputs": [],
   "source": [
    "flowers = Image.Read(\"flowers4.png\", mono=False)\n"
   ]
  },
  {
   "cell_type": "markdown",
   "metadata": {},
   "source": [
    "The `mono` option means don't convert it to greyscale, though after you've worked through the notebook, it would be interesting to rerun with this option set to `True`.\n",
    "\n",
    "The result is an object of type"
   ]
  },
  {
   "cell_type": "code",
   "execution_count": null,
   "metadata": {},
   "outputs": [],
   "source": [
    "type(flowers)"
   ]
  },
  {
   "cell_type": "markdown",
   "metadata": {},
   "source": [
    "that contains the color image and has many methods to operate on the image.\n",
    "\n",
    "A really useful method is `disp()` which will display the image and allow interactive browsing of the pixel values.  The `disp()` methods has lots of options &ndash; <span style=\"color:yellow\">check them out.</span>"
   ]
  },
  {
   "cell_type": "code",
   "execution_count": null,
   "metadata": {},
   "outputs": [],
   "source": [
    "flowers.disp()"
   ]
  },
  {
   "cell_type": "markdown",
   "metadata": {},
   "source": [
    "As you move the cursor around, the cursor location and the pixel values are updated beneath the image.  Note that the pixel value is a 3-vector whose elements are the amount of red (R), green (G) and blue (B) at that point.  \n",
    "\n",
    "<span style=\"color:yellow\">Move the cursor over the red, white, yellow and blue (very small, see if you can find it) flowers, the green leaves, and the dark shadows &ndash; do the RGB values make sense?</span>\n",
    "\n",
    "<span style=\"color:yellow\">Explore also the buttons to the left of the image.  They allow you to zoom in to a region, pan and scroll that zoomed view, or save the view to a file.</span>"
   ]
  },
  {
   "cell_type": "markdown",
   "metadata": {},
   "source": [
    "The size of the image is usually described in terms of width x height"
   ]
  },
  {
   "cell_type": "code",
   "execution_count": null,
   "metadata": {},
   "outputs": [],
   "source": [
    "flowers.size"
   ]
  },
  {
   "cell_type": "markdown",
   "metadata": {},
   "source": [
    "and the individual pixel values have a datatype"
   ]
  },
  {
   "cell_type": "code",
   "execution_count": null,
   "metadata": {},
   "outputs": [],
   "source": [
    "flowers.dtype"
   ]
  },
  {
   "cell_type": "markdown",
   "metadata": {},
   "source": [
    "which in this case in unsigned 8-bit integer.  Their range can be determined by"
   ]
  },
  {
   "cell_type": "code",
   "execution_count": null,
   "metadata": {},
   "outputs": [],
   "source": [
    "print(f\"pixel values can span the range from {flowers.minval} to {flowers.maxval}\")"
   ]
  },
  {
   "cell_type": "markdown",
   "metadata": {},
   "source": [
    "The image comprises"
   ]
  },
  {
   "cell_type": "code",
   "execution_count": null,
   "metadata": {},
   "outputs": [],
   "source": [
    "flowers.nplanes"
   ]
  },
  {
   "cell_type": "markdown",
   "metadata": {},
   "source": [
    "\"planes\" that hold the red, green and blue values respectively."
   ]
  },
  {
   "cell_type": "markdown",
   "metadata": {},
   "source": [
    "All of this metadata about the image can be seen by displaying the value of the `Image` instance, "
   ]
  },
  {
   "cell_type": "code",
   "execution_count": null,
   "metadata": {},
   "outputs": [],
   "source": [
    "flowers"
   ]
  },
  {
   "cell_type": "markdown",
   "metadata": {},
   "source": [
    "you don't see all the pixel values, just the key properties.  Many other properties can be accessed as attributes or properties of the instance."
   ]
  },
  {
   "cell_type": "markdown",
   "metadata": {},
   "source": [
    "# Color planes\n",
    "\n",
    "A color image can be considered as a 3D stack of images, each layer in the stack is called a plane.\n",
    "Color images typically have a red, green and blue plane.  The green plane shows the amount of green at every point in the original image.\n",
    "\n"
   ]
  },
  {
   "cell_type": "code",
   "execution_count": null,
   "metadata": {},
   "outputs": [],
   "source": [
    "green = flowers[\"G\"]\n",
    "green"
   ]
  },
  {
   "cell_type": "markdown",
   "metadata": {},
   "source": [
    "Note that the resulting \"green plane\" is another `Image` instance, but this time it has only"
   ]
  },
  {
   "cell_type": "code",
   "execution_count": null,
   "metadata": {},
   "outputs": [],
   "source": [
    "green.nplanes"
   ]
  },
  {
   "cell_type": "markdown",
   "metadata": {},
   "source": [
    "plane, it is a greyscale image.  It is easy to display"
   ]
  },
  {
   "cell_type": "code",
   "execution_count": null,
   "metadata": {},
   "outputs": [],
   "source": [
    "green.disp()"
   ]
  },
  {
   "cell_type": "markdown",
   "metadata": {},
   "source": [
    "and we see that the white flowers appear bright, they have a strong green component, as do the leaves, but the red flowers appear very dark, they have little green."
   ]
  },
  {
   "cell_type": "markdown",
   "metadata": {},
   "source": [
    "The `Image` object supports an arbitrary number of planes in any order.  The `colororder` dict "
   ]
  },
  {
   "cell_type": "code",
   "execution_count": null,
   "metadata": {},
   "outputs": [],
   "source": [
    "flowers.colororder"
   ]
  },
  {
   "cell_type": "markdown",
   "metadata": {},
   "source": [
    "is a mapping from colorplane name to the plane index.  The example above we could also have done as"
   ]
  },
  {
   "cell_type": "code",
   "execution_count": 68,
   "metadata": {},
   "outputs": [],
   "source": [
    "green = flowers[1]"
   ]
  },
  {
   "cell_type": "markdown",
   "metadata": {},
   "source": [
    "since the green plane, in this case has a plane index of 1. However the RGB order is just a convention, and we shouldn't rely on assuming that the green plane is always index 1."
   ]
  },
  {
   "cell_type": "markdown",
   "metadata": {},
   "source": [
    "The actual distribution of the pixel values in each plane is"
   ]
  },
  {
   "cell_type": "code",
   "execution_count": null,
   "metadata": {},
   "outputs": [],
   "source": [
    "flowers.stats()"
   ]
  },
  {
   "cell_type": "markdown",
   "metadata": {},
   "source": [
    "which shows that the red, green and blue values all vary from 0 to 255, the maximum permissible range.  This is unusual, but the white flowers have pushed each of the color channels to the limit.\n",
    "\n",
    "But where are all the zero pixel values?  We can easily find the pixels where R==0 by"
   ]
  },
  {
   "cell_type": "code",
   "execution_count": null,
   "metadata": {},
   "outputs": [],
   "source": [
    "(flowers[\"R\"] == 0).disp()"
   ]
  },
  {
   "cell_type": "markdown",
   "metadata": {},
   "source": [
    "the comparison creates an `Image` instance with boolean values, true where the pixel value is zero.  The `disp()` method displays `True` as white, and we can see a few white pixels in the lower left of the image.\n",
    "\n",
    "<span style=\"color:yellow\">Modify this to find where zero-valued green and blue pixels are.</span>"
   ]
  },
  {
   "cell_type": "markdown",
   "metadata": {},
   "source": [
    "The value at a particular coordinate (280,220) in the image is given by"
   ]
  },
  {
   "cell_type": "code",
   "execution_count": null,
   "metadata": {},
   "outputs": [],
   "source": [
    "flowers[280,220]"
   ]
  },
  {
   "cell_type": "markdown",
   "metadata": {},
   "source": [
    "and we see the result is a 3-vector, as a 1d Numpy array.  This is the amount of red, green and blue at that particular point.  Red dominates in this case because the point belongs to one of the red flowers."
   ]
  },
  {
   "cell_type": "markdown",
   "metadata": {},
   "source": [
    "We can also grab a subregion of the image using Python slice notation"
   ]
  },
  {
   "cell_type": "code",
   "execution_count": null,
   "metadata": {},
   "outputs": [],
   "source": [
    "sub = flowers[480:540,330:390]\n",
    "sub"
   ]
  },
  {
   "cell_type": "markdown",
   "metadata": {},
   "source": [
    "and the result is now another `Image` instance which we can display"
   ]
  },
  {
   "cell_type": "code",
   "execution_count": null,
   "metadata": {},
   "outputs": [],
   "source": [
    "sub.disp()"
   ]
  },
  {
   "cell_type": "markdown",
   "metadata": {},
   "source": [
    "and it is the elusive blue flower!"
   ]
  },
  {
   "cell_type": "markdown",
   "metadata": {},
   "source": [
    "The pixel data is actually held in a Numpy array encapsulated by the `Image` object.  We can access it"
   ]
  },
  {
   "cell_type": "code",
   "execution_count": null,
   "metadata": {},
   "outputs": [],
   "source": [
    "pixdata = flowers.image\n",
    "type(pixdata)"
   ]
  },
  {
   "cell_type": "markdown",
   "metadata": {},
   "source": [
    "and see that it is indeed a Numpy array.  Its shape"
   ]
  },
  {
   "cell_type": "code",
   "execution_count": null,
   "metadata": {},
   "outputs": [],
   "source": [
    "pixdata.shape"
   ]
  },
  {
   "cell_type": "markdown",
   "metadata": {},
   "source": [
    "is given as the number of rows (height), columns (width) and planes.  Compare these numbers with the properties of the `Image` instance shown above.\n",
    "\n",
    "We can access the same red flower pixel as above by"
   ]
  },
  {
   "cell_type": "code",
   "execution_count": null,
   "metadata": {},
   "outputs": [],
   "source": [
    "pixdata[220,280]"
   ]
  },
  {
   "cell_type": "markdown",
   "metadata": {},
   "source": [
    "but note that we have had to swap the indices.  Numpy coordinates are given in column, row order, whereas the `Image` instance supports the image coordinate system convention of column then row."
   ]
  },
  {
   "cell_type": "markdown",
   "metadata": {},
   "source": [
    "<span style=\"color:yellow\">Repeat this notebook, with `mono` set to `True` in the second cell.  Note the differences.</span>"
   ]
  }
 ],
 "metadata": {
  "kernelspec": {
   "display_name": "dev",
   "language": "python",
   "name": "python3"
  },
  "language_info": {
   "codemirror_mode": {
    "name": "ipython",
    "version": 3
   },
   "file_extension": ".py",
   "mimetype": "text/x-python",
   "name": "python",
   "nbconvert_exporter": "python",
   "pygments_lexer": "ipython3",
   "version": "3.10.16"
  }
 },
 "nbformat": 4,
 "nbformat_minor": 2
}
