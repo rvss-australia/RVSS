{
  "cells": [
    {
      "cell_type": "markdown",
      "metadata": {
        "id": "m5GfUywQ1t-t"
      },
      "source": [
        "<table>\n",
        "  <tr>\n",
        "      <td><div style=\"white-space: pre-wrap;\" align=\"left\"><font size=\"30\" >Tutorial B2&#10;Motion Model </font></div></td>\n",
        "     <td><img src=\"https://github.com/Tobias-Fischer/RVSS2022/blob/main/Spatial_Awareness/Tutorial_B2_Robot_Localisation/image/RVSS-logo.png?raw=1\" width=\"400\"></td>\n",
        "  </tr>\n",
        "</table>"
      ]
    },
    {
      "cell_type": "markdown",
      "metadata": {
        "id": "PkgwAigG1t-w"
      },
      "source": [
        "## Imports"
      ]
    },
    {
      "cell_type": "code",
      "execution_count": null,
      "metadata": {
        "id": "BfaeWPUu1t-x"
      },
      "outputs": [],
      "source": [
        "#Import all the necessary modules\n",
        "import sys\n",
        "import math\n",
        "import numpy as np\n",
        "import pickle\n",
        "import os\n",
        "\n",
        "!rm -rf rvss\n",
        "!git clone --depth 1 --filter=blob:none --no-checkout https://github.com/rvss-australia/RVSS.git rvss\n",
        "os.chdir('rvss')\n",
        "!git sparse-checkout init --cone\n",
        "!git sparse-checkout set Spatial_Awareness/Tutorial_B2_Robot_Localisation\n",
        "!git checkout\n",
        "os.listdir()\n",
        "os.chdir('Spatial_Awareness/Tutorial_B2_Robot_Localisation')\n",
        "\n",
        "#Visualizer\n",
        "from Render import *\n",
        "#Here we import Robot class definition form the other notebook\n",
        "from MotionModelRobot import *\n",
        "#Here we import a class that defines out measurments\n",
        "from Measurements import *"
      ]
    },
    {
      "cell_type": "markdown",
      "metadata": {
        "id": "nIMFeaU81t-y"
      },
      "source": [
        "# 2. PenguinPi Kinematic Model\n",
        "\n",
        "\n",
        "The state of the robot is described by its 2D position<!---$Latex Expression$ allows us to incorporate Latex Equations into the document---> $(x,y)$  and orientation $\\theta$. Our control inputs are number of encoder ticks of the left and right wheels of the robot. We can convert the encoder ticks into linear $v$ and angular $w$ velocities of the robot.\n",
        "\n",
        "We will create a <code>drive(self)</code> function that will update the current state of the robot<code>self.state=</code>$(x_k,y_k,\\theta_k)$ to the next state $(x_{k+1},y_{k+1},\\theta_{k+1})$ given control inputs.\n",
        "\n",
        "The control inputs are provided through the sliders that will appear once a PenguinPi object is created"
      ]
    },
    {
      "cell_type": "code",
      "execution_count": null,
      "metadata": {
        "id": "nwEAfgs71t-z"
      },
      "outputs": [],
      "source": [
        "class PenguinPi(object):\n",
        "\n",
        "    def __init__(self, wheels_width, wheels_scale):\n",
        "        # State is a vector of [x,y,theta]'\n",
        "        self.state = np.zeros((3,1))\n",
        "\n",
        "        # Wheel parameters\n",
        "        self.wheels_width = wheels_width  # The distance between the left and right wheels\n",
        "        self.wheels_scale = wheels_scale  # The scaling factor converting ticks/s to m/s\n",
        "\n",
        "    def drive(self, drive_meas):\n",
        "        # left_speed and right_speed are the speeds in ticks/s of the left and right wheels.\n",
        "        # dt is the length of time to drive for\n",
        "\n",
        "        # Compute the linear and angular velocity from wheel speeds\n",
        "        linear_velocity, angular_velocity = self.convert_wheel_speeds(drive_meas.left_speed, drive_meas.right_speed)\n",
        "\n",
        "        #This is the current state of the robot\n",
        "        x_k = self.state[0]\n",
        "        y_k = self.state[1]\n",
        "        theta_k = self.state[2]\n",
        "\n",
        "        # Apply the velocities\n",
        "        dt = drive_meas.dt\n",
        "        if angular_velocity == 0:\n",
        "#-----------------------------FILL OUT DRIVE STRAIGHT CODE-----------------------------\n",
        "#\n",
        "            x_kp1 = x_k + np.cos(theta_k)*linear_velocity*dt\n",
        "            y_kp1 = y_k + np.sin(theta_k)*linear_velocity*dt\n",
        "            theta_kp1 = theta_k\n",
        "#\n",
        "#--------------------------------------------------------------------------------------\n",
        "        else:\n",
        "#--------------------------------FILL OUT DRIVE CODE-----------------------------------\n",
        "#\n",
        "            R = linear_velocity / angular_velocity\n",
        "            theta_kp1 = theta_k + angular_velocity*dt\n",
        "            x_kp1 = x_k + R * (np.sin(theta_kp1) - np.sin(theta_k))\n",
        "            y_kp1 = y_k + R * (-np.cos(theta_kp1) + np.cos(theta_k))\n",
        "#\n",
        "#--------------------------------------------------------------------------------------\n",
        "\n",
        "        #Save our state\n",
        "        self.state[0] = x_kp1\n",
        "        self.state[1] = y_kp1\n",
        "        self.state[2] = theta_kp1\n",
        "\n",
        "\n",
        "    def convert_wheel_speeds(self, left_speed, right_speed):\n",
        "        # Convert to m/s\n",
        "        left_speed_m = left_speed * self.wheels_scale\n",
        "        right_speed_m = right_speed * self.wheels_scale\n",
        "\n",
        "        # Compute the linear and angular velocity\n",
        "        linear_velocity = (left_speed_m + right_speed_m) / 2.0\n",
        "        angular_velocity = (right_speed_m - left_speed_m) / self.wheels_width\n",
        "\n",
        "        return linear_velocity, angular_velocity"
      ]
    },
    {
      "cell_type": "markdown",
      "metadata": {
        "id": "_G7VheM61t-0"
      },
      "source": [
        "## Test Driving Straight\n",
        "Here we send the same speed to both wheels so the robot should drive in a straight line.  The visualisation shows where the robot thinks it is going and represents it as a red and green arrow depicting its personal x and y coordinates"
      ]
    },
    {
      "cell_type": "code",
      "execution_count": null,
      "metadata": {
        "id": "EMY_SE2V1t-1"
      },
      "outputs": [],
      "source": [
        "#Test our drive function driving straight\n",
        "#Creater a new robot object with wheel width of 15cm and 1cm per wheel tick\n",
        "bot = Robot(0.15, 0.01)\n",
        "#Place the robot at -2.8,-2.8 which is bottom middle of our arena\n",
        "bot.state = np.array([[-2.8],[-2.8],[np.pi/4]])\n",
        "#This is our control signal\n",
        "#Create a measurement object to drive the robot in a straight line\n",
        "# Set robot velocity\n",
        "left_speed, right_speed = 10, 10\n",
        "# Set the sampling rate\n",
        "dt = 0.2\n",
        "drive_meas = DriveMeasurement(left_speed, right_speed, dt)\n",
        "\n",
        "N = 200\n",
        "state  = np.zeros((N,3))\n",
        "for c in range(state.shape[0]):\n",
        "    state[c,:] = bot.state[:,0]\n",
        "    bot.drive(drive_meas)\n",
        "#Create a visualizer and visualize our state\n",
        "Render(state=state)"
      ]
    },
    {
      "cell_type": "markdown",
      "metadata": {
        "id": "pKg3zk3V1t-1"
      },
      "source": [
        "## Test Driving in a Circle\n",
        "Here we do the same thing but providing different speeds to each wheel so that the robot is trying to drive in a circle"
      ]
    },
    {
      "cell_type": "code",
      "execution_count": null,
      "metadata": {
        "id": "o9CmL-3k1t-1"
      },
      "outputs": [],
      "source": [
        "#Test our drive function\n",
        "#Place the robot at -2.8,-2.8 which is bottom middle of our arena\n",
        "bot.state = np.array([[-2.8],[-2.8],[0]])\n",
        "\n",
        "#This is our control signal\n",
        "#Create a measurement object to drive the robot in a circle\n",
        "# Set robot velocity\n",
        "left_speed, right_speed = 10, 14\n",
        "# Set the sampling rate\n",
        "dt = 0.2\n",
        "drive_meas = DriveMeasurement(left_speed, right_speed, dt)\n",
        "\n",
        "N = 200\n",
        "state  = np.zeros((N,3))\n",
        "for c in range(state.shape[0]):\n",
        "    state[c,:] = bot.state[:,0]\n",
        "    bot.drive(drive_meas)\n",
        "\n",
        "#Create a visualizer and visualize our state\n",
        "#rend = Rendered.Instance()\n",
        "#rend.initialize(state)\n",
        "Render(state)"
      ]
    },
    {
      "cell_type": "markdown",
      "metadata": {
        "id": "PWumzJlQ1t-2"
      },
      "source": [
        "## Test Driving Real Data\n",
        "Here we provide the same input as above, but we also display the ground truth (measured from an overhead camera) which shows where the robot has *really* gone.  The ground truth is shown using dark red and dark green."
      ]
    },
    {
      "cell_type": "code",
      "execution_count": null,
      "metadata": {
        "id": "0VJYDjua1t-2"
      },
      "outputs": [],
      "source": [
        "#Finally test our robot with some real data\n",
        "\n",
        "#Here we load our data including the true state\n",
        "with open('data/data.dat', \"rb\") as f:\n",
        "    data = pickle.load(f)\n",
        "\n",
        "gt_state = data['state'][48:,:]\n",
        "control = data['control'][48:,:]\n",
        "\n",
        "bot = Robot(0.15, 0.01)\n",
        "bot.state = np.array([[-2.8],[-2.8],[0]])\n",
        "#Place the robot at the correct initial state X0\n",
        "bot.state = gt_state[0,:].copy().reshape(-1,1)\n",
        "\n",
        "#Apply our control to the robot and visualize\n",
        "#Our timestamp is always 0.2\n",
        "dt = 0.2\n",
        "#Here we will save our state variable\n",
        "state = np.zeros((control.shape[0],3))\n",
        "\n",
        "for c in range(control.shape[0]):\n",
        "    state[c,:] = bot.state[:,0]\n",
        "    drive_signal = DriveMeasurement(control[c,0],control[c,1],dt)\n",
        "    bot.drive(drive_signal)\n",
        "\n",
        "#Create a visualizer and visualize our state\n",
        "#rend = Rendered.Instance()\n",
        "Render(state=state, gt_state = gt_state)\n"
      ]
    }
  ],
  "metadata": {
    "kernelspec": {
      "display_name": "Python 3",
      "name": "python3"
    },
    "language_info": {
      "name": "python"
    },
    "colab": {
      "name": "1_MotionModel.ipynb",
      "provenance": []
    }
  },
  "nbformat": 4,
  "nbformat_minor": 0
}