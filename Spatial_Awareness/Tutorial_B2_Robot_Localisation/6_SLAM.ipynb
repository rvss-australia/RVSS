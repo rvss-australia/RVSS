{
  "cells": [
    {
      "cell_type": "markdown",
      "metadata": {
        "id": "JMG7qxrLx8PB"
      },
      "source": [
        "<table>\n",
        "  <tr>\n",
        "      <td><div style=\"white-space: pre-wrap;\" align=\"left\"><font size=\"30\" >Tutorial B2&#10;SLAM </font></div></td>\n",
        "     <td><img src=\"https://github.com/Tobias-Fischer/RVSS2022/blob/main/Spatial_Awareness/Tutorial_B2_Robot_Localisation/image/RVSS-logo.png?raw=1\" width=\"400\"></td>\n",
        "  </tr>\n",
        "</table>"
      ]
    },
    {
      "cell_type": "markdown",
      "metadata": {
        "id": "006sqI4Vx8PH"
      },
      "source": [
        "# Load data and run SLAM"
      ]
    },
    {
      "cell_type": "code",
      "execution_count": null,
      "metadata": {
        "id": "jFMPDGOfx8PH"
      },
      "outputs": [],
      "source": [
        "import os\n",
        "import math\n",
        "import numpy as np\n",
        "import pickle\n",
        "from importlib import import_module\n",
        "\n",
        "!rm -rf rvss\n",
        "!git clone --depth 1 --filter=blob:none --no-checkout https://github.com/rvss-australia/RVSS.git rvss\n",
        "os.chdir('rvss')\n",
        "!git sparse-checkout init --cone\n",
        "!git sparse-checkout set Spatial_Awareness/Tutorial_B2_Robot_Localisation\n",
        "!git checkout\n",
        "os.listdir()\n",
        "os.chdir('Spatial_Awareness/Tutorial_B2_Robot_Localisation')\n",
        "\n",
        "#Visualizer\n",
        "from Render import *\n",
        "#Here we import Robot class definition form the other notebook\n",
        "from EKF_Robot import *\n",
        "#Here we import a class that defines out measurments\n",
        "from Measurements import *\n",
        "#This implements the EKF\n",
        "import EKF\n",
        "\n",
        "from SLAM_Robot import *\n",
        "#Here is SLAM\n",
        "import Slam\n",
        "\n",
        "#Here we load our data including the true state\n",
        "with open('data/data_slam.dat', \"rb\") as f:\n",
        "    data = pickle.load(f)\n",
        "\n",
        "gt_state = data['state']\n",
        "control = data['control']\n",
        "measurements = data['measurement']\n"
      ]
    },
    {
      "cell_type": "code",
      "source": [
        "#Now lets see how well slam does\n",
        "#Create a robot and place it at the true starting position and orientation\n",
        "bot = SLAM_Robot(0.14, 0.01)\n",
        "#Place the robot at -2.8,-2.8 which is bottom middle of our arena\n",
        "bot.state = gt_state[0,:].copy().reshape(-1,1)\n",
        "\n",
        "slammer = Slam.Slam(bot)\n",
        "\n",
        "#----------------------------------------PARAMETERS----------------------------------\n",
        "#\n",
        "#Initial incertainty of our robot\n",
        "slammer.P = np.eye(3)*0.001\n",
        "#Uncertainty in our left and right wheel motors\n",
        "sigma_drive = np.array([0.1,0.1])\n",
        "#Uncertainty in measurement ~10cm\n",
        "sigma_measure = np.eye(2)*0.1\n",
        "#\n",
        "#-------------------------------------------------------------------------------------\n",
        "\n",
        "#Apply our control to the robot and visualize\n",
        "#Our timestamp is always 0.2\n",
        "dt = 0.2\n",
        "#Here we will save our state variable\n",
        "state = np.zeros((control.shape[0],3))\n",
        "#Here we will save all of the landmarks added to our map\n",
        "landmarks = []\n",
        "#Here we save the robot covariances\n",
        "robot_cov = np.zeros(((control.shape[0],3,3)))\n",
        "#Here we save the marker covariances\n",
        "marker_cov = []\n",
        "for c in range(control.shape[0]):\n",
        "    #Set the measurement covariances\n",
        "    for mes in measurements[c]:\n",
        "        mes.covariance = sigma_measure\n",
        "\n",
        "    slammer.add_landmarks(measurements[c])\n",
        "    # Drive and predict\n",
        "    drive_signal = DriveMeasurement(control[c,0],control[c,1],dt,sigma_drive[0],sigma_drive[1])\n",
        "    slammer.predict(drive_signal)\n",
        "    slammer.update(measurements[c])\n",
        "\n",
        "    marker_cov.append(slammer.P[3:,3:])\n",
        "    state[c,:] = bot.state[:,0]\n",
        "    landmarks.append(slammer.markers)\n",
        "    robot_cov[c,:,:] = slammer.P[0:3,0:3]\n",
        "\n",
        "#Create a visualizer and visualize our atate\n",
        "#rend = Rendered.Instance()\n",
        "#rend.initialize(state,measurements,gt_state = gt_state,landmarks=landmarks,robot_cov=robot_cov,marker_cov=marker_cov)\n",
        "Render(state=state, gt_state=gt_state, measurements=measurements, robot_cov=robot_cov, landmarks=landmarks, marker_cov=marker_cov)"
      ],
      "metadata": {
        "id": "N6VSnp9d_spl"
      },
      "execution_count": null,
      "outputs": []
    },
    {
      "cell_type": "code",
      "execution_count": null,
      "metadata": {
        "id": "iPLxCMd9x8PM"
      },
      "outputs": [],
      "source": []
    }
  ],
  "metadata": {
    "kernelspec": {
      "display_name": "Python 3",
      "name": "python3"
    },
    "language_info": {
      "name": "python"
    },
    "colab": {
      "name": "6_SLAM.ipynb",
      "provenance": []
    }
  },
  "nbformat": 4,
  "nbformat_minor": 0
}