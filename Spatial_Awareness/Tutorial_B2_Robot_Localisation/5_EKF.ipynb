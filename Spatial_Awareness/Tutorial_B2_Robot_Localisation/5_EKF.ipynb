{
  "cells": [
    {
      "cell_type": "markdown",
      "metadata": {
        "id": "YzxQXgodu8H_"
      },
      "source": [
        "<table>\n",
        "  <tr>\n",
        "      <td><div style=\"white-space: pre-wrap;\" align=\"left\"><font size=\"30\" >Tutorial B2&#10;EKF </font></div></td>\n",
        "     <td><img src=\"https://github.com/Tobias-Fischer/RVSS2022/blob/main/Spatial_Awareness/Tutorial_B2_Robot_Localisation/image/RVSS-logo.png?raw=1\" width=\"400\"></td>\n",
        "  </tr>\n",
        "</table>"
      ]
    },
    {
      "cell_type": "markdown",
      "metadata": {
        "id": "Pi3MNS2Yu8IB"
      },
      "source": [
        "# Set up the session"
      ]
    },
    {
      "cell_type": "code",
      "execution_count": null,
      "metadata": {
        "id": "lGPz8GqVu8IB"
      },
      "outputs": [],
      "source": [
        "import os\n",
        "import math\n",
        "import numpy as np\n",
        "import pickle\n",
        "from importlib import import_module\n",
        "\n",
        "!rm -rf rvss\n",
        "!git clone --depth 1 --filter=blob:none --no-checkout https://github.com/rvss-australia/RVSS.git rvss\n",
        "os.chdir('rvss')\n",
        "!git sparse-checkout init --cone\n",
        "!git sparse-checkout set Spatial_Awareness/Tutorial_B2_Robot_Localisation\n",
        "!git checkout\n",
        "os.listdir()\n",
        "os.chdir('Spatial_Awareness/Tutorial_B2_Robot_Localisation')\n",
        "\n",
        "#Visualizer\n",
        "from Render import *\n",
        "#Here we import Robot class definition form the other notebook\n",
        "from EKF_Robot import *\n",
        "#Here we import a class that defines out measurments\n",
        "from Measurements import *\n",
        "#This implements the EKF\n",
        "import EKF"
      ]
    },
    {
      "cell_type": "markdown",
      "source": [
        "## Download groud truth and measurement data and show dead reckoning\n",
        "The visualiser shows:\n",
        "- where the robot really is (dark red and green)\n",
        "- where the robot thinks it is using wheel odometry (light red and green)\n",
        "- where the robot thinks the landmarks are (light blue lines)\n",
        "\n",
        "Note that:\n",
        "- the landmark measurements are uncertain so the endpoints of the lines dance around\n",
        "- the robot's belief about the positions of the landmarks diverges from the truth over time because its belief about its position diverges also"
      ],
      "metadata": {
        "id": "4ML34w55v2W7"
      }
    },
    {
      "cell_type": "code",
      "source": [
        "#Here we load our data including the true state\n",
        "with open('data/data_ekf.dat', \"rb\") as f:\n",
        "    data = pickle.load(f)\n",
        "\n",
        "gt_state = data['state']\n",
        "control = data['control']\n",
        "measurements = data['measurement']\n",
        "\n",
        "#Create a robot and place it at the true starting position and orientation\n",
        "bot = EKF_Robot(0.14, 0.01)\n",
        "#Place the robot at -2.8,-2.8 which is bottom middle of our arena\n",
        "bot.state = gt_state[0,:].copy().reshape(-1,1)\n",
        "\n",
        "#Apply our control to the robot and visualize\n",
        "#Our timestamp is always 0.2\n",
        "dt = 0.2\n",
        "#Here we will save our state variable\n",
        "state = np.zeros((control.shape[0],3))\n",
        "\n",
        "\n",
        "for c in range(control.shape[0]):\n",
        "    state[c,:] = bot.state[:,0]\n",
        "    drive_signal = DriveMeasurement(control[c,0],control[c,1],dt)\n",
        "    bot.drive(drive_signal)\n",
        "\n",
        "#Create a visualizer and visualize our atate\n",
        "Render(state=state, gt_state=gt_state, measurements=measurements)"
      ],
      "metadata": {
        "id": "uU2L5Fcbvtgh"
      },
      "execution_count": null,
      "outputs": []
    },
    {
      "cell_type": "markdown",
      "metadata": {
        "id": "Jn9o58bsu8ID"
      },
      "source": [
        "# Now run EKF\n",
        "Here we suppose that the robot knows the true positions of the landmarks\n",
        "so it can correct its estimate of its position from the landmark measurements using an Extended Kalman Filter.\n",
        "\n",
        "Here the visualisation also shows the uncertainty ellipse for its estimate of the robot's position. Note that we are not showing the uncertainty in rotation."
      ]
    },
    {
      "cell_type": "code",
      "execution_count": null,
      "metadata": {
        "id": "7tHEc0XRu8IE"
      },
      "outputs": [],
      "source": [
        "#Here we load our data including the true state\n",
        "with open('data/data_ekf.dat', \"rb\") as f:\n",
        "    data = pickle.load(f)\n",
        "\n",
        "gt_state = data['state']\n",
        "control = data['control']\n",
        "measurements = data['measurement']\n",
        "\n",
        "#Here are our true marker positions\n",
        "markers = data['markers']\n",
        "\n",
        "#Now lets see how well slam does\n",
        "\n",
        "#Create a robot and place it at the true starting position and orientation\n",
        "bot = EKF_Robot(0.15, 0.01)\n",
        "\n",
        "#Place the robot at -2.8,-2.8 which is bottom middle of our arena\n",
        "#by copying the initial ground truth position into the estimated state\n",
        "bot.state = gt_state[0,:].copy().reshape(-1,1)\n",
        "ekf = EKF.RobotEKF(bot,markers)\n",
        "\n",
        "# (Big) Initial incertainty of our robot\n",
        "ekf.P = np.eye(3)*100\n",
        "\n",
        "#Uncertainty in our left and right wheel motors\n",
        "sigma_drive = np.array([2,2])\n",
        "\n",
        "#Uncertainty in measurement\n",
        "sigma_measure = np.eye(2)\n",
        "\n",
        "#Apply our control to the robot and visualize\n",
        "#Our timestamp is always 0.2\n",
        "dt = 0.2\n",
        "#Here we will save our state variable\n",
        "state = np.zeros((control.shape[0],3))\n",
        "\n",
        "#Here we save the robot covariances\n",
        "robot_cov = np.zeros(((control.shape[0],3,3)))\n",
        "\n",
        "for c in range(control.shape[0]):\n",
        "    #Set the measurement covariances\n",
        "    for mes in measurements[c]:\n",
        "        mes.covariance = sigma_measure\n",
        "    drive_signal = DriveMeasurement(control[c,0],control[c,1],dt,sigma_drive[0],sigma_drive[1])\n",
        "    ekf.predict(drive_signal)\n",
        "    ekf.update(measurements[c])\n",
        "    state[c,:] = bot.state[:,0]\n",
        "    #drive_signal = DriveMeasurement(control[c,0],control[c,1],dt,sigma_drive[0],sigma_drive[1])\n",
        "    # Drive and predict\n",
        "    robot_cov[c,:,:] = ekf.P[0:3,0:3]\n",
        "\n",
        "#Create a visualizer and visualize our state\n",
        "Render(state=state, gt_state=gt_state, measurements=measurements, robot_cov=robot_cov)\n"
      ]
    }
  ],
  "metadata": {
    "kernelspec": {
      "display_name": "Python 3",
      "name": "python3"
    },
    "language_info": {
      "name": "python"
    },
    "colab": {
      "name": "5_EKF.ipynb",
      "provenance": []
    }
  },
  "nbformat": 4,
  "nbformat_minor": 0
}